{
 "cells": [
  {
   "cell_type": "code",
   "execution_count": 1,
   "metadata": {},
   "outputs": [],
   "source": [
    "import numpy as np\n",
    "import matplotlib.pyplot as plt\n",
    "import cv2\n",
    "\n",
    "# Define a function to generate clusters\n",
    "def cluster_gen(n_clusters, pts_minmax=(10, 100), x_mult=(1, 4), y_mult=(1, 3), \n",
    "                x_off=(0, 50), y_off=(0, 50)):\n",
    "    \n",
    "    # n_clusters = number of clusters to generate\n",
    "    # pts_minmax = range of number of points per cluster \n",
    "    # x_mult = range of multiplier to modify the size of cluster in the x-direction\n",
    "    # y_mult = range of multiplier to modify the size of cluster in the x-direction\n",
    "    # x_off = range of cluster position offset in the x-direction\n",
    "    # y_off = range of cluster position offset in the y-direction\n",
    "    \n",
    "    # Initialize some empty lists to receive cluster member positions\n",
    "    clusters_x = []\n",
    "    clusters_y = []\n",
    "    # Genereate random values given parameter ranges\n",
    "    n_points = np.random.randint(pts_minmax[0], pts_minmax[1], n_clusters)\n",
    "    x_multipliers = np.random.randint(x_mult[0], x_mult[1], n_clusters)\n",
    "    y_multipliers = np.random.randint(y_mult[0], y_mult[1], n_clusters)\n",
    "    x_offsets = np.random.randint(x_off[0], x_off[1], n_clusters)\n",
    "    y_offsets = np.random.randint(y_off[0], y_off[1], n_clusters)\n",
    "     \n",
    "    # Generate random clusters given parameter values\n",
    "    for idx, npts in enumerate(n_points):\n",
    "        \n",
    "        xpts = np.random.randn(npts) * x_multipliers[idx] + x_offsets[idx]\n",
    "        ypts = np.random.randn(npts) * y_multipliers[idx] + y_offsets[idx]\n",
    "        clusters_x.append(xpts)\n",
    "        clusters_y.append(ypts)\n",
    "    \n",
    "    # Return cluster positions\n",
    "    return clusters_x, clusters_y\n"
   ]
  },
  {
   "cell_type": "code",
   "execution_count": null,
   "metadata": {},
   "outputs": [],
   "source": []
  }
 ],
 "metadata": {
  "kernelspec": {
   "display_name": "Python [conda env:RoboND]",
   "language": "python",
   "name": "conda-env-RoboND-py"
  },
  "language_info": {
   "codemirror_mode": {
    "name": "ipython",
    "version": 3
   },
   "file_extension": ".py",
   "mimetype": "text/x-python",
   "name": "python",
   "nbconvert_exporter": "python",
   "pygments_lexer": "ipython3",
   "version": "3.5.6"
  }
 },
 "nbformat": 4,
 "nbformat_minor": 2
}
